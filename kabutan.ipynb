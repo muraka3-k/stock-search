{
 "cells": [
  {
   "cell_type": "code",
   "execution_count": null,
   "id": "pleasant-telescope",
   "metadata": {},
   "outputs": [],
   "source": [
    "# !pip install selenium\n",
    "# !pip install chromedriver-binary-auto"
   ]
  },
  {
   "cell_type": "code",
   "execution_count": null,
   "id": "active-tribute",
   "metadata": {},
   "outputs": [],
   "source": [
    "import time\n",
    "import json\n",
    "import importlib\n",
    "import sys\n",
    "\n",
    "sys.path.append(\"app\")    ### モジュールのパスを設定\n",
    "\n",
    "### 動的にモジュールを確保\n",
    "lib_base_folder = \"app.\"\n",
    "m_kabutanWebDriver = importlib.import_module(lib_base_folder + \"kabutan_web_driver\")"
   ]
  },
  {
   "attachments": {},
   "cell_type": "markdown",
   "id": "db40a9de",
   "metadata": {},
   "source": [
    "- urlは探索のベースとなるURL\n",
    "- ticker_listは、探索したい銘柄コード"
   ]
  },
  {
   "cell_type": "code",
   "execution_count": null,
   "id": "a1450ce1",
   "metadata": {},
   "outputs": [],
   "source": [
    "url = \"https://kabutan.jp/\"\n",
    "ticker_list = [2914, 9104]"
   ]
  },
  {
   "cell_type": "code",
   "execution_count": null,
   "id": "f269416d",
   "metadata": {},
   "outputs": [],
   "source": [
    "if m_kabutanWebDriver is None:\n",
    "    m_kabutanWebDriver = importlib.import_module(lib_base_folder + \"kabutan_web_driver\")\n",
    "else:\n",
    "    importlib.reload(m_kabutanWebDriver)"
   ]
  },
  {
   "cell_type": "code",
   "execution_count": null,
   "id": "c03c489c",
   "metadata": {},
   "outputs": [],
   "source": [
    "wd = m_kabutanWebDriver.KabutanWebDrive(url)\n",
    "result = []\n",
    "for ticker in ticker_list:\n",
    "    result.append(wd.searchTickerPage(ticker))\n",
    "\n",
    "del wd\n",
    "with open('search_result.json', 'w') as f:\n",
    "    json.dump(result, f, indent=4, ensure_ascii=False)"
   ]
  }
 ],
 "metadata": {
  "kernelspec": {
   "display_name": "Python 3",
   "language": "python",
   "name": "python3"
  },
  "language_info": {
   "codemirror_mode": {
    "name": "ipython",
    "version": 3
   },
   "file_extension": ".py",
   "mimetype": "text/x-python",
   "name": "python",
   "nbconvert_exporter": "python",
   "pygments_lexer": "ipython3",
   "version": "3.9.1"
  },
  "vscode": {
   "interpreter": {
    "hash": "5c73adf2c0cac92dc7d69659d3db7ef05af856165b06f57415eef9914a444074"
   }
  }
 },
 "nbformat": 4,
 "nbformat_minor": 5
}
